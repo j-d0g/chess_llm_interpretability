{
 "cells": [
  {
   "cell_type": "code",
   "execution_count": null,
   "metadata": {},
   "outputs": [],
   "source": [
    "import torch\n",
    "probe_name = \"tf_lens_lichess_16layers_ckpt_no_optimizer_chess_skill_probe_layer_11.pth\"\n",
    "with open(probe_name, 'rb') as f:\n",
    "    state_dict = torch.load(f, map_location=torch.device('cpu'))\n",
    "    print(state_dict.keys())\n",
    "    for key in state_dict.keys():\n",
    "        if key != \"linear_probe\":\n",
    "            print(key, state_dict[key])"
   ]
  },
  {
   "cell_type": "code",
   "execution_count": null,
   "metadata": {},
   "outputs": [],
   "source": [
    "# This is used to find contrastive activations from a given linear probe\n",
    "\n",
    "print(state_dict['linear_probe'].shape)\n",
    "low_activation = state_dict['linear_probe'][..., 0].squeeze()\n",
    "high_activation = state_dict['linear_probe'][..., 1].squeeze()\n",
    "print(low_activation.shape)\n",
    "print(high_activation.shape)\n",
    "difference_vector = high_activation - low_activation\n",
    "state_dict['average_high_elo_activation'] = high_activation\n",
    "state_dict['average_low_elo_activation'] = low_activation\n",
    "state_dict['difference_vector'] = difference_vector\n",
    "\n",
    "torch.save(state_dict, probe_name)"
   ]
  }
 ],
 "metadata": {
  "kernelspec": {
   "display_name": "othello",
   "language": "python",
   "name": "python3"
  },
  "language_info": {
   "codemirror_mode": {
    "name": "ipython",
    "version": 3
   },
   "file_extension": ".py",
   "mimetype": "text/x-python",
   "name": "python",
   "nbconvert_exporter": "python",
   "pygments_lexer": "ipython3",
   "version": "3.10.13"
  }
 },
 "nbformat": 4,
 "nbformat_minor": 2
}
